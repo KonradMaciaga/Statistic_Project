{
 "cells": [
  {
   "cell_type": "markdown",
   "id": "32fa21c5-545d-45a6-a881-b56ad8b3a26a",
   "metadata": {
    "tags": []
   },
   "source": [
    "# Statystyka 2022 \n",
    "\n",
    "## Zależność między częstotliwością używania internetu, a innymi zmiennymi\n",
    "\n",
    "\n",
    "### Analiza statystyczna danych oparta na European Social Survey 9 2018 \n",
    "\n"
   ]
  },
  {
   "cell_type": "markdown",
   "id": "7137f39d-792e-4034-b8c3-66360fae1455",
   "metadata": {},
   "source": [
    " - Wczytanie wszystkich potrzebnych nam rozszerzeń dla pythona"
   ]
  },
  {
   "cell_type": "code",
   "execution_count": 1,
   "id": "b5b4d9bd",
   "metadata": {},
   "outputs": [],
   "source": [
    "import pandas as pd\n",
    "from prometheus_client import Summary\n",
    "import pyreadstat as pyst\n",
    "import numpy as num\n",
    "import scipy.stats as sps\n",
    "import numpy.ma as ma\n",
    "import statsmodels.api as sm\n",
    "from statsmodels.sandbox.regression.predstd import wls_prediction_std\n",
    "from statsmodels.formula.api import ols\n",
    "import matplotlib.pyplot as plt\n",
    "import seaborn as sns"
   ]
  },
  {
   "cell_type": "markdown",
   "id": "0cbcb0b1-62fa-46ed-b2fe-1e93e32d48aa",
   "metadata": {},
   "source": [
    "- Wczytanie danych z ankiety "
   ]
  },
  {
   "cell_type": "code",
   "execution_count": 2,
   "id": "282d697b-898d-46ff-84e1-b1f0c4db915a",
   "metadata": {},
   "outputs": [
    {
     "data": {
      "text/html": [
       "<div>\n",
       "<style scoped>\n",
       "    .dataframe tbody tr th:only-of-type {\n",
       "        vertical-align: middle;\n",
       "    }\n",
       "\n",
       "    .dataframe tbody tr th {\n",
       "        vertical-align: top;\n",
       "    }\n",
       "\n",
       "    .dataframe thead th {\n",
       "        text-align: right;\n",
       "    }\n",
       "</style>\n",
       "<table border=\"1\" class=\"dataframe\">\n",
       "  <thead>\n",
       "    <tr style=\"text-align: right;\">\n",
       "      <th></th>\n",
       "      <th>name</th>\n",
       "      <th>essround</th>\n",
       "      <th>edition</th>\n",
       "      <th>proddate</th>\n",
       "      <th>idno</th>\n",
       "      <th>cntry</th>\n",
       "      <th>nwspol</th>\n",
       "      <th>netusoft</th>\n",
       "      <th>netustm</th>\n",
       "      <th>ppltrst</th>\n",
       "      <th>...</th>\n",
       "      <th>inwemm</th>\n",
       "      <th>inwtm</th>\n",
       "      <th>dweight</th>\n",
       "      <th>pspwght</th>\n",
       "      <th>pweight</th>\n",
       "      <th>anweight</th>\n",
       "      <th>domain</th>\n",
       "      <th>prob</th>\n",
       "      <th>stratum</th>\n",
       "      <th>psu</th>\n",
       "    </tr>\n",
       "  </thead>\n",
       "  <tbody>\n",
       "    <tr>\n",
       "      <th>0</th>\n",
       "      <td>ESS9e03_1</td>\n",
       "      <td>9.0</td>\n",
       "      <td>3.1</td>\n",
       "      <td>17.02.2021</td>\n",
       "      <td>27.0</td>\n",
       "      <td>AT</td>\n",
       "      <td>60.0</td>\n",
       "      <td>5.0</td>\n",
       "      <td>180.0</td>\n",
       "      <td>2.0</td>\n",
       "      <td>...</td>\n",
       "      <td>7.0</td>\n",
       "      <td>46.0</td>\n",
       "      <td>0.581174</td>\n",
       "      <td>0.218111</td>\n",
       "      <td>0.302091</td>\n",
       "      <td>0.065890</td>\n",
       "      <td>2.0</td>\n",
       "      <td>0.001176</td>\n",
       "      <td>59.0</td>\n",
       "      <td>1688.0</td>\n",
       "    </tr>\n",
       "    <tr>\n",
       "      <th>1</th>\n",
       "      <td>ESS9e03_1</td>\n",
       "      <td>9.0</td>\n",
       "      <td>3.1</td>\n",
       "      <td>17.02.2021</td>\n",
       "      <td>137.0</td>\n",
       "      <td>AT</td>\n",
       "      <td>10.0</td>\n",
       "      <td>5.0</td>\n",
       "      <td>20.0</td>\n",
       "      <td>7.0</td>\n",
       "      <td>...</td>\n",
       "      <td>6.0</td>\n",
       "      <td>73.0</td>\n",
       "      <td>1.062772</td>\n",
       "      <td>0.413473</td>\n",
       "      <td>0.302091</td>\n",
       "      <td>0.124907</td>\n",
       "      <td>2.0</td>\n",
       "      <td>0.000643</td>\n",
       "      <td>79.0</td>\n",
       "      <td>88.0</td>\n",
       "    </tr>\n",
       "    <tr>\n",
       "      <th>2</th>\n",
       "      <td>ESS9e03_1</td>\n",
       "      <td>9.0</td>\n",
       "      <td>3.1</td>\n",
       "      <td>17.02.2021</td>\n",
       "      <td>194.0</td>\n",
       "      <td>AT</td>\n",
       "      <td>60.0</td>\n",
       "      <td>4.0</td>\n",
       "      <td>180.0</td>\n",
       "      <td>5.0</td>\n",
       "      <td>...</td>\n",
       "      <td>48.0</td>\n",
       "      <td>92.0</td>\n",
       "      <td>1.376509</td>\n",
       "      <td>2.270293</td>\n",
       "      <td>0.302091</td>\n",
       "      <td>0.685836</td>\n",
       "      <td>2.0</td>\n",
       "      <td>0.000496</td>\n",
       "      <td>11.0</td>\n",
       "      <td>938.0</td>\n",
       "    </tr>\n",
       "    <tr>\n",
       "      <th>3</th>\n",
       "      <td>ESS9e03_1</td>\n",
       "      <td>9.0</td>\n",
       "      <td>3.1</td>\n",
       "      <td>17.02.2021</td>\n",
       "      <td>208.0</td>\n",
       "      <td>AT</td>\n",
       "      <td>45.0</td>\n",
       "      <td>5.0</td>\n",
       "      <td>120.0</td>\n",
       "      <td>3.0</td>\n",
       "      <td>...</td>\n",
       "      <td>49.0</td>\n",
       "      <td>134.0</td>\n",
       "      <td>0.993399</td>\n",
       "      <td>0.386483</td>\n",
       "      <td>0.302091</td>\n",
       "      <td>0.116753</td>\n",
       "      <td>2.0</td>\n",
       "      <td>0.000688</td>\n",
       "      <td>74.0</td>\n",
       "      <td>1998.0</td>\n",
       "    </tr>\n",
       "    <tr>\n",
       "      <th>4</th>\n",
       "      <td>ESS9e03_1</td>\n",
       "      <td>9.0</td>\n",
       "      <td>3.1</td>\n",
       "      <td>17.02.2021</td>\n",
       "      <td>220.0</td>\n",
       "      <td>AT</td>\n",
       "      <td>30.0</td>\n",
       "      <td>1.0</td>\n",
       "      <td>NaN</td>\n",
       "      <td>5.0</td>\n",
       "      <td>...</td>\n",
       "      <td>39.0</td>\n",
       "      <td>40.0</td>\n",
       "      <td>0.377353</td>\n",
       "      <td>1.032102</td>\n",
       "      <td>0.302091</td>\n",
       "      <td>0.311789</td>\n",
       "      <td>2.0</td>\n",
       "      <td>0.001811</td>\n",
       "      <td>99.0</td>\n",
       "      <td>601.0</td>\n",
       "    </tr>\n",
       "  </tbody>\n",
       "</table>\n",
       "<p>5 rows × 572 columns</p>\n",
       "</div>"
      ],
      "text/plain": [
       "        name  essround edition    proddate   idno cntry  nwspol  netusoft  \\\n",
       "0  ESS9e03_1       9.0     3.1  17.02.2021   27.0    AT    60.0       5.0   \n",
       "1  ESS9e03_1       9.0     3.1  17.02.2021  137.0    AT    10.0       5.0   \n",
       "2  ESS9e03_1       9.0     3.1  17.02.2021  194.0    AT    60.0       4.0   \n",
       "3  ESS9e03_1       9.0     3.1  17.02.2021  208.0    AT    45.0       5.0   \n",
       "4  ESS9e03_1       9.0     3.1  17.02.2021  220.0    AT    30.0       1.0   \n",
       "\n",
       "   netustm  ppltrst  ...  inwemm  inwtm   dweight   pspwght   pweight  \\\n",
       "0    180.0      2.0  ...     7.0   46.0  0.581174  0.218111  0.302091   \n",
       "1     20.0      7.0  ...     6.0   73.0  1.062772  0.413473  0.302091   \n",
       "2    180.0      5.0  ...    48.0   92.0  1.376509  2.270293  0.302091   \n",
       "3    120.0      3.0  ...    49.0  134.0  0.993399  0.386483  0.302091   \n",
       "4      NaN      5.0  ...    39.0   40.0  0.377353  1.032102  0.302091   \n",
       "\n",
       "   anweight  domain      prob  stratum     psu  \n",
       "0  0.065890     2.0  0.001176     59.0  1688.0  \n",
       "1  0.124907     2.0  0.000643     79.0    88.0  \n",
       "2  0.685836     2.0  0.000496     11.0   938.0  \n",
       "3  0.116753     2.0  0.000688     74.0  1998.0  \n",
       "4  0.311789     2.0  0.001811     99.0   601.0  \n",
       "\n",
       "[5 rows x 572 columns]"
      ]
     },
     "execution_count": 2,
     "metadata": {},
     "output_type": "execute_result"
    }
   ],
   "source": [
    "df_spss, meta = pyst.read_sav(\"ESS9e03_1.sav\")\n",
    "df_spss.head()"
   ]
  },
  {
   "cell_type": "markdown",
   "id": "10356f5e-d043-4724-9c38-65406785b002",
   "metadata": {},
   "source": [
    "- obliczenie ilości ankietowanych "
   ]
  },
  {
   "cell_type": "code",
   "execution_count": 3,
   "id": "766dc69c-1a6a-458b-936d-fcbd418fcd46",
   "metadata": {},
   "outputs": [
    {
     "name": "stdout",
     "output_type": "stream",
     "text": [
      "49519\n"
     ]
    }
   ],
   "source": [
    "print(df_spss.count()[0])"
   ]
  },
  {
   "cell_type": "markdown",
   "id": "07e9759f-5b16-499a-b250-d226eda94a20",
   "metadata": {},
   "source": [
    "## O podstawie wybrania zmiennych\n",
    "\n",
    "Zmienne które zaraz przedstawie, oraz hipotezy które przy nich postawiłem, wybrałem na podstawie własnych doświadczeń, oraz artykułów naukowych, do których linki zostawiam poniżej \n",
    "\n",
    "- \"Wpływ  łączności internetowej na komunikację społeczną\" http://humanistyka.com/index.php/MH/article/view/210\n",
    "- \"Przegląd wybranych badań nad wpływem Internetu na dobrostan psychiczny i kontakty społeczne użytkowników\" http://czasopismo.badania.net/wp-content/uploads/2007/08/blachnio_2007_3.pdf\n",
    "\n",
    "W tekstach tych poruszane jest to jak internet wpływa na relacje międzyludzkie, kto częściej korzysta z internetu oraz jak użycie internetu wpływa na szczęście. Jak wiadomo, internet szczególnie dla nas młodych osób, jest czymś powszechnym i często mamy z nim styczność na codzień, ale niestety nie zastanawiamy się jak on wpływa na nas"
   ]
  },
  {
   "cell_type": "raw",
   "id": "2ad8c599-7c6e-4eff-a5d0-d1fa869db962",
   "metadata": {},
   "source": []
  },
  {
   "cell_type": "markdown",
   "id": "1fafca08-1cb8-4a5d-a377-6d38f51a453b",
   "metadata": {
    "tags": []
   },
   "source": [
    "## **ZMIENNA ZALEŻNA** \n",
    "\n",
    "Jako zmienną zależną wybrałem zmienną pod nazwą *\"netusoft\"* która określa to jak często ktoś używa internetu w następującej skali: \n",
    "\n",
    "1. Nigdy\n",
    "2. Tylko okazjonalnie\n",
    "3. Kilka razy w tygodniu\n",
    "4. W większość dni\n",
    "5. Codziennie \n",
    "7. Odmowa odpowiedzi\n",
    "8. \"Nie wiem\"\n",
    "9. Brak odpowiedzi"
   ]
  },
  {
   "cell_type": "code",
   "execution_count": 4,
   "id": "33471b2a",
   "metadata": {},
   "outputs": [
    {
     "name": "stdout",
     "output_type": "stream",
     "text": [
      "How often you use internet avarage:  3.9010147153945667\n",
      "How often you use internet median:  nan\n",
      "How often you use internet dominant:  ModeResult(mode=array([5.]), count=array([30617]))\n",
      "How often you use internet standard deviation:  1.591538185438084\n",
      "How often you use internet variation:  2.5329937957075486\n"
     ]
    }
   ],
   "source": [
    "#How often you use internet\n",
    "internet_use = df_spss['netusoft']\n",
    "print(\"How often you use internet avarage: \",num.mean(internet_use))\n",
    "print(\"How often you use internet median: \", num.median(internet_use))\n",
    "print(\"How often you use internet dominant: \", sps.mode(internet_use))\n",
    "print(\"How often you use internet standard deviation: \", num.std(internet_use))\n",
    "print(\"How often you use internet variation: \", num.var(internet_use))"
   ]
  },
  {
   "cell_type": "markdown",
   "id": "f57528ee-5435-40f0-891c-9331f419bf98",
   "metadata": {
    "tags": []
   },
   "source": [
    "## **Pierwsza zmienna niezależna** - *szczęście*\n",
    "\n",
    "Jako pierwszą zmienną niezależną, wybrałem zmienną o nazwie *\"happy\"* która określa to jak osoba ankietowana jest szczęśliwa w następującej skali:\n",
    "\n",
    "0. Ekstremalnie nieszczęśliwa\n",
    "1. \n",
    "2. \n",
    "3. \n",
    "4. \n",
    "5. \n",
    "6. \n",
    "7. \n",
    "8. \n",
    "9. \n",
    "10. Ekstremalnie szczęśliwy \n",
    "77. Odmowa odpowiedzi\n",
    "88. Nie wiem \n",
    "99. Brak odpowiedzi\n",
    "\n",
    "\n",
    "Hipoteza jaką postawiłem do tej zmiennej jest to, że osoba jest **mniej szczęśliwa im więcej używa internetu**"
   ]
  },
  {
   "cell_type": "code",
   "execution_count": 5,
   "id": "1efceeee",
   "metadata": {},
   "outputs": [
    {
     "name": "stdout",
     "output_type": "stream",
     "text": [
      "How happy are you avarage:  7.42032805498672\n",
      "How happy are you median:  nan\n",
      "How happy are you dominant:  ModeResult(mode=array([8.]), count=array([14085]))\n",
      "How happy are you standard deviation:  1.9349280021736401\n",
      "How happy are you variation:  3.7439463735956746\n"
     ]
    }
   ],
   "source": [
    "#How happy are you\n",
    "happy = df_spss[\"happy\"]\n",
    "print(\"How happy are you avarage: \",num.mean(happy))\n",
    "print(\"How happy are you median: \", num.median(happy))\n",
    "print(\"How happy are you dominant: \", sps.mode(happy))\n",
    "print(\"How happy are you standard deviation: \", num.std(happy))\n",
    "print(\"How happy are you variation: \", num.var(happy))"
   ]
  },
  {
   "cell_type": "markdown",
   "id": "23e31341-e335-4ce4-84d8-80bff9a70b08",
   "metadata": {
    "tags": []
   },
   "source": [
    "## **Druga zmienna niezależna** - *wiek*\n",
    "\n",
    "Drugą zmienną niezależną, będzie obliczony wiek ankietowanego, kryjący się pod zmienną *\"agea\"*. Z obserwacji wynika, że ankietowani nie byli młodsi niż 15 rok życia, oraz nie byli oni starsi niż 90 \n",
    "\n",
    "Hipoteza jaką postawiłem co do tej zmiennej jest taka, że **więcej z internetu korzystają z osoby które są młodsze**"
   ]
  },
  {
   "cell_type": "code",
   "execution_count": 6,
   "id": "9a80e625",
   "metadata": {},
   "outputs": [
    {
     "name": "stdout",
     "output_type": "stream",
     "text": [
      "Calculated age avarage:  51.0660080735136\n",
      "Calculated age median:  nan\n",
      "Calculated age dominant:  ModeResult(mode=array([63.]), count=array([946]))\n",
      "Calculated age standard deviation:  18.647306401221513\n",
      "Calculated age variation:  347.72203602103684\n"
     ]
    }
   ],
   "source": [
    "#Calculated age\n",
    "age = df_spss['agea']\n",
    "print(\"Calculated age avarage: \",num.mean(age))\n",
    "print(\"Calculated age median: \", num.median(age))\n",
    "print(\"Calculated age dominant: \", sps.mode(age))\n",
    "print(\"Calculated age standard deviation: \", num.std(age))\n",
    "print(\"Calculated age variation: \", num.var(age))"
   ]
  },
  {
   "cell_type": "markdown",
   "id": "55d9be97-1025-4256-b677-36d39d0dd726",
   "metadata": {
    "tags": []
   },
   "source": [
    "## **Trzecia zmienna zależna** - *zdrowie* \n",
    "\n",
    "Następną zmienną zależną którą wybrałem jest subiektywna ocena generalnego zdrowia ankietowanego określona w ankiecie jako *\"health\"* którą określali w następującej skali:\n",
    "\n",
    "1. Bardzo dobre\n",
    "2. Dobre\n",
    "3. Średnie\n",
    "4. Złe\n",
    "5. Bardzo złe \n",
    "7. Odmowa odpowiedzi\n",
    "8. Nie wiem\n",
    "9. Brak odpowiedzi\n",
    "\n",
    "\n",
    "Trzecia hipoteza jaką postawiłem jest taka, że im **więcej osoba spędza czasu w internecie, tym jej zdrowie ogólne jest mniejsze**"
   ]
  },
  {
   "cell_type": "code",
   "execution_count": 7,
   "id": "248e4844",
   "metadata": {},
   "outputs": [
    {
     "name": "stdout",
     "output_type": "stream",
     "text": [
      "State of general health avarage:  2.2075212292761828\n",
      "State of general health median:  nan\n",
      "State of general health dominant:  ModeResult(mode=array([2.]), count=array([20630]))\n",
      "State of general health standard deviation:  0.9276278189309288\n",
      "State of general health variation:  0.8604933704545521\n"
     ]
    }
   ],
   "source": [
    "#State of general health\n",
    "health = df_spss[\"health\"]\n",
    "print(\"State of general health avarage: \",num.mean(health))\n",
    "print(\"State of general health median: \", num.median(health))\n",
    "print(\"State of general health dominant: \", sps.mode(health))\n",
    "print(\"State of general health standard deviation: \", num.std(health))\n",
    "print(\"State of general health variation: \", num.var(health))"
   ]
  },
  {
   "cell_type": "markdown",
   "id": "399d5ec4-7d61-4b4b-b4fa-d31ca026a36c",
   "metadata": {
    "tags": []
   },
   "source": [
    "## **Czwarta zmienna niezależa** - *satysfakcja z życia*\n",
    "\n",
    "Przedostatnią już zmienną o nazwie  *\"stflife\"* przedstawia nam satysfakcje z życia jako z całości, którą ankietowani przedstawiali według tej skali: \n",
    "\n",
    "00. Ekstremalnie nieusatysfakcjonowani\n",
    "01. \n",
    "02. \n",
    "03. \n",
    "04. \n",
    "05. \n",
    "06. \n",
    "07. \n",
    "08. \n",
    "09. \n",
    "10. Ekstremalnie usatysfakcjonowani\n",
    "77. Odmowa odpowiedzi\n",
    "88. Nie wiem\n",
    "99. Brak odpowiedzi\n",
    "\n",
    "\n",
    "Kolejną postawioną przezemnie hipoteza jest taka, że im **więcej korzystamy z internetu tym nasza satysfakcja z życia jest większa**"
   ]
  },
  {
   "cell_type": "code",
   "execution_count": 8,
   "id": "d50b2473",
   "metadata": {},
   "outputs": [
    {
     "name": "stdout",
     "output_type": "stream",
     "text": [
      "How satisfied with life as a whole avarage:  7.111501370419247\n",
      "How satisfied with life as a whole median:  nan\n",
      "How satisfied with life as a whole dominant:  ModeResult(mode=array([8.]), count=array([12700]))\n",
      "How satisfied with life as a whole standard deviation:  2.19213919628421\n",
      "How satisfied with life as a whole variation:  4.805474255885582\n"
     ]
    }
   ],
   "source": [
    "#How satisfied with life as a whole\n",
    "satis_life = df_spss['stflife']\n",
    "print(\"How satisfied with life as a whole avarage: \",num.mean(satis_life))\n",
    "print(\"How satisfied with life as a whole median: \", num.median(satis_life))\n",
    "print(\"How satisfied with life as a whole dominant: \", sps.mode(satis_life))\n",
    "print(\"How satisfied with life as a whole standard deviation: \", num.std(satis_life))\n",
    "print(\"How satisfied with life as a whole variation: \", num.var(satis_life))"
   ]
  },
  {
   "cell_type": "markdown",
   "id": "e36ee0ee-6881-4d62-8def-d3f2567c837b",
   "metadata": {},
   "source": [
    "## **Piąta zmienna niezależna** - *spotkania z przyjaciółmi*\n",
    "\n",
    "Ostatnią już zmienną która powiąże z spędzaniem czasu w internecie, będzie zmienna o nazwie *\"sclmeet\"* i przedstawia ona jak często ankietowany spotyka się z towarzysko z przyjaciółmi, krewnymi bądź kolegami, a przedstawione to jest na następującej skali:\n",
    "\n",
    "01. Nigdy\n",
    "02. Rzadziej niż raz na miesiąc\n",
    "03. Raz w miesiącu\n",
    "04. Parę razy w miesiącu\n",
    "05. Raz tygodniowo\n",
    "06. Parę razy w tygodniu\n",
    "07. Codziennie\n",
    "77. Odmowa odpowiedzi \n",
    "88. Nie wiem\n",
    "99. Brak odpowiedzi\n",
    "\n",
    "\n",
    "Ostatnią postawioną hipotezą jest to, że im **więcej korzystamy z internetu, tym rzadziej spotykamy się z naszymi znajomymi, przyjaciółmi i rodziną**\n"
   ]
  },
  {
   "cell_type": "code",
   "execution_count": 9,
   "id": "f94c135a-542c-482c-b054-d74c3c563753",
   "metadata": {},
   "outputs": [
    {
     "name": "stdout",
     "output_type": "stream",
     "text": [
      "How often soccialy meet with friends avarage:  4.8643013454368615\n",
      "How often soccialy meet with friends median:  nan\n",
      "How often soccialy meet with friends dominant:  ModeResult(mode=array([6.]), count=array([13294]))\n",
      "How often soccialy meet with friends standard deviation:  1.5815503116245209\n",
      "How often soccialy meet with friends variation:  2.5013013881996193\n"
     ]
    }
   ],
   "source": [
    "#How often soccialy meet with friends\n",
    "soccial_time_friends = df_spss['sclmeet']\n",
    "print(\"How often soccialy meet with friends avarage: \",num.mean(soccial_time_friends))\n",
    "print(\"How often soccialy meet with friends median: \", num.median(soccial_time_friends))\n",
    "print(\"How often soccialy meet with friends dominant: \", sps.mode(soccial_time_friends))\n",
    "print(\"How often soccialy meet with friends standard deviation: \", num.std(soccial_time_friends))\n",
    "print(\"How often soccialy meet with friends variation: \", num.var(soccial_time_friends))"
   ]
  },
  {
   "cell_type": "markdown",
   "id": "5847cbaf-bb04-4b21-9501-ccf10074515a",
   "metadata": {},
   "source": [
    "## **MACIERZ KORELACJI**"
   ]
  },
  {
   "cell_type": "code",
   "execution_count": 18,
   "id": "9fdbfd42",
   "metadata": {},
   "outputs": [
    {
     "data": {
      "text/html": [
       "<style type=\"text/css\">\n",
       "#T_31bf9_row0_col0, #T_31bf9_row1_col1, #T_31bf9_row2_col2, #T_31bf9_row3_col3, #T_31bf9_row4_col4, #T_31bf9_row5_col5 {\n",
       "  background-color: #800026;\n",
       "  color: #f1f1f1;\n",
       "}\n",
       "#T_31bf9_row0_col1 {\n",
       "  background-color: #fd9e43;\n",
       "  color: #000000;\n",
       "}\n",
       "#T_31bf9_row0_col2, #T_31bf9_row0_col3, #T_31bf9_row2_col0, #T_31bf9_row2_col5, #T_31bf9_row3_col1, #T_31bf9_row3_col4, #T_31bf9_row3_col5 {\n",
       "  background-color: #ffffcc;\n",
       "  color: #000000;\n",
       "}\n",
       "#T_31bf9_row0_col4 {\n",
       "  background-color: #fea044;\n",
       "  color: #000000;\n",
       "}\n",
       "#T_31bf9_row0_col5, #T_31bf9_row4_col5 {\n",
       "  background-color: #feb44e;\n",
       "  color: #000000;\n",
       "}\n",
       "#T_31bf9_row1_col0 {\n",
       "  background-color: #fd863a;\n",
       "  color: #f1f1f1;\n",
       "}\n",
       "#T_31bf9_row1_col2 {\n",
       "  background-color: #fed16e;\n",
       "  color: #000000;\n",
       "}\n",
       "#T_31bf9_row1_col3 {\n",
       "  background-color: #fffcc4;\n",
       "  color: #000000;\n",
       "}\n",
       "#T_31bf9_row1_col4, #T_31bf9_row4_col1 {\n",
       "  background-color: #d9131f;\n",
       "  color: #f1f1f1;\n",
       "}\n",
       "#T_31bf9_row1_col5 {\n",
       "  background-color: #feaf4b;\n",
       "  color: #000000;\n",
       "}\n",
       "#T_31bf9_row2_col1 {\n",
       "  background-color: #ffe691;\n",
       "  color: #000000;\n",
       "}\n",
       "#T_31bf9_row2_col3 {\n",
       "  background-color: #fc6430;\n",
       "  color: #f1f1f1;\n",
       "}\n",
       "#T_31bf9_row2_col4 {\n",
       "  background-color: #ffe48c;\n",
       "  color: #000000;\n",
       "}\n",
       "#T_31bf9_row3_col0 {\n",
       "  background-color: #fff0a8;\n",
       "  color: #000000;\n",
       "}\n",
       "#T_31bf9_row3_col2 {\n",
       "  background-color: #fc4f2a;\n",
       "  color: #f1f1f1;\n",
       "}\n",
       "#T_31bf9_row4_col0 {\n",
       "  background-color: #fd883b;\n",
       "  color: #f1f1f1;\n",
       "}\n",
       "#T_31bf9_row4_col2 {\n",
       "  background-color: #fecc68;\n",
       "  color: #000000;\n",
       "}\n",
       "#T_31bf9_row4_col3 {\n",
       "  background-color: #fffbc2;\n",
       "  color: #000000;\n",
       "}\n",
       "#T_31bf9_row5_col0 {\n",
       "  background-color: #fd8a3b;\n",
       "  color: #f1f1f1;\n",
       "}\n",
       "#T_31bf9_row5_col1 {\n",
       "  background-color: #fd9d43;\n",
       "  color: #000000;\n",
       "}\n",
       "#T_31bf9_row5_col2 {\n",
       "  background-color: #fede82;\n",
       "  color: #000000;\n",
       "}\n",
       "#T_31bf9_row5_col3 {\n",
       "  background-color: #ffeda1;\n",
       "  color: #000000;\n",
       "}\n",
       "#T_31bf9_row5_col4 {\n",
       "  background-color: #fea245;\n",
       "  color: #000000;\n",
       "}\n",
       "</style>\n",
       "<table id=\"T_31bf9\">\n",
       "  <thead>\n",
       "    <tr>\n",
       "      <th class=\"blank level0\" >&nbsp;</th>\n",
       "      <th id=\"T_31bf9_level0_col0\" class=\"col_heading level0 col0\" >netusoft</th>\n",
       "      <th id=\"T_31bf9_level0_col1\" class=\"col_heading level0 col1\" >happy</th>\n",
       "      <th id=\"T_31bf9_level0_col2\" class=\"col_heading level0 col2\" >agea</th>\n",
       "      <th id=\"T_31bf9_level0_col3\" class=\"col_heading level0 col3\" >health</th>\n",
       "      <th id=\"T_31bf9_level0_col4\" class=\"col_heading level0 col4\" >stflife</th>\n",
       "      <th id=\"T_31bf9_level0_col5\" class=\"col_heading level0 col5\" >sclmeet</th>\n",
       "    </tr>\n",
       "  </thead>\n",
       "  <tbody>\n",
       "    <tr>\n",
       "      <th id=\"T_31bf9_level0_row0\" class=\"row_heading level0 row0\" >netusoft</th>\n",
       "      <td id=\"T_31bf9_row0_col0\" class=\"data row0 col0\" >1.000000</td>\n",
       "      <td id=\"T_31bf9_row0_col1\" class=\"data row0 col1\" >0.245166</td>\n",
       "      <td id=\"T_31bf9_row0_col2\" class=\"data row0 col2\" >-0.555740</td>\n",
       "      <td id=\"T_31bf9_row0_col3\" class=\"data row0 col3\" >-0.392021</td>\n",
       "      <td id=\"T_31bf9_row0_col4\" class=\"data row0 col4\" >0.235927</td>\n",
       "      <td id=\"T_31bf9_row0_col5\" class=\"data row0 col5\" >0.232481</td>\n",
       "    </tr>\n",
       "    <tr>\n",
       "      <th id=\"T_31bf9_level0_row1\" class=\"row_heading level0 row1\" >happy</th>\n",
       "      <td id=\"T_31bf9_row1_col0\" class=\"data row1 col0\" >0.245166</td>\n",
       "      <td id=\"T_31bf9_row1_col1\" class=\"data row1 col1\" >1.000000</td>\n",
       "      <td id=\"T_31bf9_row1_col2\" class=\"data row1 col2\" >-0.128041</td>\n",
       "      <td id=\"T_31bf9_row1_col3\" class=\"data row1 col3\" >-0.358506</td>\n",
       "      <td id=\"T_31bf9_row1_col4\" class=\"data row1 col4\" >0.707516</td>\n",
       "      <td id=\"T_31bf9_row1_col5\" class=\"data row1 col5\" >0.248826</td>\n",
       "    </tr>\n",
       "    <tr>\n",
       "      <th id=\"T_31bf9_level0_row2\" class=\"row_heading level0 row2\" >agea</th>\n",
       "      <td id=\"T_31bf9_row2_col0\" class=\"data row2 col0\" >-0.555740</td>\n",
       "      <td id=\"T_31bf9_row2_col1\" class=\"data row2 col1\" >-0.128041</td>\n",
       "      <td id=\"T_31bf9_row2_col2\" class=\"data row2 col2\" >1.000000</td>\n",
       "      <td id=\"T_31bf9_row2_col3\" class=\"data row2 col3\" >0.412798</td>\n",
       "      <td id=\"T_31bf9_row2_col4\" class=\"data row2 col4\" >-0.103733</td>\n",
       "      <td id=\"T_31bf9_row2_col5\" class=\"data row2 col5\" >-0.218366</td>\n",
       "    </tr>\n",
       "    <tr>\n",
       "      <th id=\"T_31bf9_level0_row3\" class=\"row_heading level0 row3\" >health</th>\n",
       "      <td id=\"T_31bf9_row3_col0\" class=\"data row3 col0\" >-0.392021</td>\n",
       "      <td id=\"T_31bf9_row3_col1\" class=\"data row3 col1\" >-0.358506</td>\n",
       "      <td id=\"T_31bf9_row3_col2\" class=\"data row3 col2\" >0.412798</td>\n",
       "      <td id=\"T_31bf9_row3_col3\" class=\"data row3 col3\" >1.000000</td>\n",
       "      <td id=\"T_31bf9_row3_col4\" class=\"data row3 col4\" >-0.352049</td>\n",
       "      <td id=\"T_31bf9_row3_col5\" class=\"data row3 col5\" >-0.219991</td>\n",
       "    </tr>\n",
       "    <tr>\n",
       "      <th id=\"T_31bf9_level0_row4\" class=\"row_heading level0 row4\" >stflife</th>\n",
       "      <td id=\"T_31bf9_row4_col0\" class=\"data row4 col0\" >0.235927</td>\n",
       "      <td id=\"T_31bf9_row4_col1\" class=\"data row4 col1\" >0.707516</td>\n",
       "      <td id=\"T_31bf9_row4_col2\" class=\"data row4 col2\" >-0.103733</td>\n",
       "      <td id=\"T_31bf9_row4_col3\" class=\"data row4 col3\" >-0.352049</td>\n",
       "      <td id=\"T_31bf9_row4_col4\" class=\"data row4 col4\" >1.000000</td>\n",
       "      <td id=\"T_31bf9_row4_col5\" class=\"data row4 col5\" >0.228485</td>\n",
       "    </tr>\n",
       "    <tr>\n",
       "      <th id=\"T_31bf9_level0_row5\" class=\"row_heading level0 row5\" >sclmeet</th>\n",
       "      <td id=\"T_31bf9_row5_col0\" class=\"data row5 col0\" >0.232481</td>\n",
       "      <td id=\"T_31bf9_row5_col1\" class=\"data row5 col1\" >0.248826</td>\n",
       "      <td id=\"T_31bf9_row5_col2\" class=\"data row5 col2\" >-0.218366</td>\n",
       "      <td id=\"T_31bf9_row5_col3\" class=\"data row5 col3\" >-0.219991</td>\n",
       "      <td id=\"T_31bf9_row5_col4\" class=\"data row5 col4\" >0.228485</td>\n",
       "      <td id=\"T_31bf9_row5_col5\" class=\"data row5 col5\" >1.000000</td>\n",
       "    </tr>\n",
       "  </tbody>\n",
       "</table>\n"
      ],
      "text/plain": [
       "<pandas.io.formats.style.Styler at 0x7f79df1ab370>"
      ]
     },
     "execution_count": 18,
     "metadata": {},
     "output_type": "execute_result"
    }
   ],
   "source": [
    "df = df_spss[['netusoft', 'happy', 'agea', 'health', 'stflife','sclmeet']]\n",
    "corr = df.corr(method='pearson')\n",
    "corr.style.background_gradient(cmap='YlOrRd')\n"
   ]
  },
  {
   "cell_type": "markdown",
   "id": "cfb0fe99-4e1e-4b3d-9c81-e87d901397c9",
   "metadata": {},
   "source": [
    "## **MODEL REGRESJI**"
   ]
  },
  {
   "cell_type": "code",
   "execution_count": 11,
   "id": "3e5530d8",
   "metadata": {},
   "outputs": [
    {
     "data": {
      "text/html": [
       "<table class=\"simpletable\">\n",
       "<caption>OLS Regression Results</caption>\n",
       "<tr>\n",
       "  <th>Dep. Variable:</th>        <td>netusoft</td>     <th>  R-squared:         </th> <td>   0.361</td> \n",
       "</tr>\n",
       "<tr>\n",
       "  <th>Model:</th>                   <td>OLS</td>       <th>  Adj. R-squared:    </th> <td>   0.361</td> \n",
       "</tr>\n",
       "<tr>\n",
       "  <th>Method:</th>             <td>Least Squares</td>  <th>  F-statistic:       </th> <td>   5511.</td> \n",
       "</tr>\n",
       "<tr>\n",
       "  <th>Date:</th>             <td>Thu, 23 Jun 2022</td> <th>  Prob (F-statistic):</th>  <td>  0.00</td>  \n",
       "</tr>\n",
       "<tr>\n",
       "  <th>Time:</th>                 <td>12:17:20</td>     <th>  Log-Likelihood:    </th> <td> -80661.</td> \n",
       "</tr>\n",
       "<tr>\n",
       "  <th>No. Observations:</th>      <td> 48692</td>      <th>  AIC:               </th> <td>1.613e+05</td>\n",
       "</tr>\n",
       "<tr>\n",
       "  <th>Df Residuals:</th>          <td> 48686</td>      <th>  BIC:               </th> <td>1.614e+05</td>\n",
       "</tr>\n",
       "<tr>\n",
       "  <th>Df Model:</th>              <td>     5</td>      <th>                     </th>     <td> </td>    \n",
       "</tr>\n",
       "<tr>\n",
       "  <th>Covariance Type:</th>      <td>nonrobust</td>    <th>                     </th>     <td> </td>    \n",
       "</tr>\n",
       "</table>\n",
       "<table class=\"simpletable\">\n",
       "<tr>\n",
       "      <td></td>         <th>coef</th>     <th>std err</th>      <th>t</th>      <th>P>|t|</th>  <th>[0.025</th>    <th>0.975]</th>  \n",
       "</tr>\n",
       "<tr>\n",
       "  <th>Intercept</th> <td>    5.3305</td> <td>    0.039</td> <td>  136.481</td> <td> 0.000</td> <td>    5.254</td> <td>    5.407</td>\n",
       "</tr>\n",
       "<tr>\n",
       "  <th>happy</th>     <td>    0.0522</td> <td>    0.004</td> <td>   12.149</td> <td> 0.000</td> <td>    0.044</td> <td>    0.061</td>\n",
       "</tr>\n",
       "<tr>\n",
       "  <th>agea</th>      <td>   -0.0401</td> <td>    0.000</td> <td> -116.859</td> <td> 0.000</td> <td>   -0.041</td> <td>   -0.039</td>\n",
       "</tr>\n",
       "<tr>\n",
       "  <th>health</th>    <td>   -0.2251</td> <td>    0.007</td> <td>  -30.674</td> <td> 0.000</td> <td>   -0.239</td> <td>   -0.211</td>\n",
       "</tr>\n",
       "<tr>\n",
       "  <th>stflife</th>   <td>    0.0575</td> <td>    0.004</td> <td>   15.239</td> <td> 0.000</td> <td>    0.050</td> <td>    0.065</td>\n",
       "</tr>\n",
       "<tr>\n",
       "  <th>sclmeet</th>   <td>    0.0664</td> <td>    0.004</td> <td>   17.242</td> <td> 0.000</td> <td>    0.059</td> <td>    0.074</td>\n",
       "</tr>\n",
       "</table>\n",
       "<table class=\"simpletable\">\n",
       "<tr>\n",
       "  <th>Omnibus:</th>       <td>1779.813</td> <th>  Durbin-Watson:     </th> <td>   1.887</td>\n",
       "</tr>\n",
       "<tr>\n",
       "  <th>Prob(Omnibus):</th>  <td> 0.000</td>  <th>  Jarque-Bera (JB):  </th> <td>1578.302</td>\n",
       "</tr>\n",
       "<tr>\n",
       "  <th>Skew:</th>           <td>-0.381</td>  <th>  Prob(JB):          </th> <td>    0.00</td>\n",
       "</tr>\n",
       "<tr>\n",
       "  <th>Kurtosis:</th>       <td> 2.556</td>  <th>  Cond. No.          </th> <td>    379.</td>\n",
       "</tr>\n",
       "</table><br/><br/>Notes:<br/>[1] Standard Errors assume that the covariance matrix of the errors is correctly specified."
      ],
      "text/plain": [
       "<class 'statsmodels.iolib.summary.Summary'>\n",
       "\"\"\"\n",
       "                            OLS Regression Results                            \n",
       "==============================================================================\n",
       "Dep. Variable:               netusoft   R-squared:                       0.361\n",
       "Model:                            OLS   Adj. R-squared:                  0.361\n",
       "Method:                 Least Squares   F-statistic:                     5511.\n",
       "Date:                Thu, 23 Jun 2022   Prob (F-statistic):               0.00\n",
       "Time:                        12:17:20   Log-Likelihood:                -80661.\n",
       "No. Observations:               48692   AIC:                         1.613e+05\n",
       "Df Residuals:                   48686   BIC:                         1.614e+05\n",
       "Df Model:                           5                                         \n",
       "Covariance Type:            nonrobust                                         \n",
       "==============================================================================\n",
       "                 coef    std err          t      P>|t|      [0.025      0.975]\n",
       "------------------------------------------------------------------------------\n",
       "Intercept      5.3305      0.039    136.481      0.000       5.254       5.407\n",
       "happy          0.0522      0.004     12.149      0.000       0.044       0.061\n",
       "agea          -0.0401      0.000   -116.859      0.000      -0.041      -0.039\n",
       "health        -0.2251      0.007    -30.674      0.000      -0.239      -0.211\n",
       "stflife        0.0575      0.004     15.239      0.000       0.050       0.065\n",
       "sclmeet        0.0664      0.004     17.242      0.000       0.059       0.074\n",
       "==============================================================================\n",
       "Omnibus:                     1779.813   Durbin-Watson:                   1.887\n",
       "Prob(Omnibus):                  0.000   Jarque-Bera (JB):             1578.302\n",
       "Skew:                          -0.381   Prob(JB):                         0.00\n",
       "Kurtosis:                       2.556   Cond. No.                         379.\n",
       "==============================================================================\n",
       "\n",
       "Notes:\n",
       "[1] Standard Errors assume that the covariance matrix of the errors is correctly specified.\n",
       "\"\"\""
      ]
     },
     "execution_count": 11,
     "metadata": {},
     "output_type": "execute_result"
    }
   ],
   "source": [
    "model = ols(\"netusoft ~ happy + agea + health + stflife + sclmeet\", data = df_spss)\n",
    "results = model.fit()\n",
    "results.summary()"
   ]
  },
  {
   "cell_type": "markdown",
   "id": "9c62e5fc-adca-4236-b173-15ab3ed5046c",
   "metadata": {
    "tags": []
   },
   "source": [
    "## **Wnioski - Hipoteza 1**\n",
    "\n",
    "Hipoteza 1 - osoba jest mniej szczęśliwa im więcej używa internetu\n",
    "\n",
    "Hipoteza okazała się fałszywa, ponieważ jak pokazuje wykres, im więcej ankietowani używali internetu tym ich szczęście było większe\n",
    "\n",
    "Może być to spowodowane tym, że osoby takie mają czas żeby spędzać dużo czasu w internecie, a także mają w ogóle środki na internet co przekłada się na to, że posiadają większy dobrobyt, a także i szczęście"
   ]
  },
  {
   "cell_type": "code",
   "execution_count": 12,
   "id": "c3882465",
   "metadata": {},
   "outputs": [
    {
     "data": {
      "text/plain": [
       "Text(0.5, 1.0, 'The relationship between internet use and happy')"
      ]
     },
     "execution_count": 12,
     "metadata": {},
     "output_type": "execute_result"
    },
    {
     "data": {
      "image/png": "[encoded data removed]",
      "text/plain": [
       "<Figure size 432x288 with 1 Axes>"
      ]
     },
     "metadata": {
      "needs_background": "light"
     },
     "output_type": "display_data"
    }
   ],
   "source": [
    "sns.regplot(x=\"happy\", y=\"netusoft\", data=df_spss, scatter = False)\n",
    "plt.xlim(0,10)\n",
    "plt.ylim(1,5)\n",
    "plt.xlabel(\"happy\")\n",
    "plt.ylabel(\"internet use\")\n",
    "plt.title(\"The relationship between internet use and happy\")"
   ]
  },
  {
   "cell_type": "markdown",
   "id": "844eb06d-cc69-44a4-9751-67e6524d7ce3",
   "metadata": {},
   "source": [
    "## **Wnioski - Hipoteza 2** \n",
    "\n",
    "Hipoteza 2  - więcej z internetu korzystają osoby które są młodsze\n",
    "\n",
    "Hipoteza druga okazała się być prawdziwa. Wraz z wzrostem użytkowania internetu wiek ankietowanego również się zwiększa, a najwięcej z niego korzystają osoby w okolicach 20 roku życia"
   ]
  },
  {
   "cell_type": "code",
   "execution_count": 13,
   "id": "7db6b894-89f4-4338-a7c8-6578d414bf8f",
   "metadata": {},
   "outputs": [
    {
     "data": {
      "text/plain": [
       "Text(0.5, 1.0, 'The relationship between internet use and age')"
      ]
     },
     "execution_count": 13,
     "metadata": {},
     "output_type": "execute_result"
    },
    {
     "data": {
      "image/png": "[encoded data removed]",
      "text/plain": [
       "<Figure size 432x288 with 1 Axes>"
      ]
     },
     "metadata": {
      "needs_background": "light"
     },
     "output_type": "display_data"
    }
   ],
   "source": [
    "sns.regplot(x=\"agea\", y=\"netusoft\", data=df_spss, scatter = False)\n",
    "plt.xlim(14,90)\n",
    "plt.ylim(1,6)\n",
    "plt.xlabel(\"age\")\n",
    "plt.ylabel(\"internet use\")\n",
    "plt.title(\"The relationship between internet use and age\")"
   ]
  },
  {
   "cell_type": "markdown",
   "id": "1638fc25-6833-4219-9bc0-c8b52298f4d6",
   "metadata": {},
   "source": [
    "## **Wnioski - Hipoteza 3** \n",
    "\n",
    "Hipoteza 3 - im więcej osoba spędza czasu w internecie, tym jej zdrowie ogólne jest mniejsze\n",
    "\n",
    "Hipoteza ta okazała się fałszywa i im więcej osoba korzysta z internetu tym uważa swoje zdrowie ogólne za bardzo dobre. Ciężko stwierdzić czym to jest spowodowane, możliwe że częste przebywanie w internecie, daje nam odskocznie od rzeczywistości, także rzadziej decydujemy się wychodzić do sklepów po zakupy, wolimy to zrobić przez internet co automatycznie odcina nas od możliwości zarażenia się czymś. Z poprzedniej hipotezy wiemy, że najwięcej z internetu korzystają młode osoby, a tam często mogą posiadać wirtualne znajomości, co również wpływa na ich zdrowie psychiczne."
   ]
  },
  {
   "cell_type": "code",
   "execution_count": 14,
   "id": "61531942-d4a5-4fb4-9682-4eaff2e0aad4",
   "metadata": {},
   "outputs": [
    {
     "data": {
      "text/plain": [
       "Text(0.5, 1.0, 'The relationship between internet use and health')"
      ]
     },
     "execution_count": 14,
     "metadata": {},
     "output_type": "execute_result"
    },
    {
     "data": {
      "image/png": "[encoded data removed]",
      "text/plain": [
       "<Figure size 432x288 with 1 Axes>"
      ]
     },
     "metadata": {
      "needs_background": "light"
     },
     "output_type": "display_data"
    }
   ],
   "source": [
    "sns.regplot(x=\"health\", y=\"netusoft\", data=df_spss, scatter = False)\n",
    "plt.xlim(1,5)\n",
    "plt.ylim(1,5)\n",
    "plt.xlabel(\"health\")\n",
    "plt.ylabel(\"internet use\")\n",
    "plt.title(\"The relationship between internet use and health\")"
   ]
  },
  {
   "cell_type": "markdown",
   "id": "a207f7bd-7a65-4a8a-b860-da238a61a218",
   "metadata": {},
   "source": [
    "## **Wnioski - Hipoteza 4**\n",
    "\n",
    "Hipoteza 4 - im więcej korzystamy z internetu tym nasza satysfakcja z życia jest większa\n",
    "\n",
    "Hipoteza ta sprawdza się. Uważam że jest tak dlatego, ponieważ osoba korzystająca w dużej ilości z internetu, robi to w formie pewnego relaksu, odskoczni od świata i zajęcia się czymś, internet też daje duże źródło wiedzy o świecie jak i również otwiera wiele możliwości, przez co satysfakcja z życia zwiększa się, możemy pozwolić sobie na więcej rzeczy"
   ]
  },
  {
   "cell_type": "code",
   "execution_count": 15,
   "id": "685bcd85-7dfa-47e4-bae6-f4bc9acfa123",
   "metadata": {},
   "outputs": [
    {
     "data": {
      "text/plain": [
       "Text(0.5, 1.0, 'The relationship between internet use and satisfied with life')"
      ]
     },
     "execution_count": 15,
     "metadata": {},
     "output_type": "execute_result"
    },
    {
     "data": {
      "image/png": "[encoded data removed]",
      "text/plain": [
       "<Figure size 432x288 with 1 Axes>"
      ]
     },
     "metadata": {
      "needs_background": "light"
     },
     "output_type": "display_data"
    }
   ],
   "source": [
    "sns.regplot(x=\"stflife\", y=\"netusoft\", data=df_spss, scatter = False)\n",
    "plt.xlim(0,10)\n",
    "plt.ylim(1,5)\n",
    "plt.xlabel(\"satisfied with life\")\n",
    "plt.ylabel(\"internet use\")\n",
    "plt.title(\"The relationship between internet use and satisfied with life\")"
   ]
  },
  {
   "cell_type": "markdown",
   "id": "6de0f137-5974-4646-9f83-58563ecc12c7",
   "metadata": {
    "tags": []
   },
   "source": [
    "## **Wnioski - Hipoteza 5** \n",
    "\n",
    "Hipoteza 5 -  im więcej korzystamy z internetu, tym rzadziej spotykamy się z naszymi znajomymi, przyjaciółmi i rodziną\n",
    "\n",
    "Hipoteza ta okazał się błędna, ponieważ wraz ze wzrostem używania internetu, wzrasta też częstotliwość spotykania się z naszymi znajomymi. Można podejść do tego w taki sposób, że osoby które często korzystają z internetu, mają okazje zawiązać więcej znajomości, a także łatwość w ustaleniu godziny i miejsca spotkania znacznie wzrasta co działa w pozytywny sposób na spotykanie się ze znajomymi."
   ]
  },
  {
   "cell_type": "code",
   "execution_count": 16,
   "id": "83850178-0838-4ea8-8977-562ae856fbc7",
   "metadata": {},
   "outputs": [
    {
     "data": {
      "text/plain": [
       "Text(0.5, 1.0, 'The relationship between internet use and how often you meet with friends')"
      ]
     },
     "execution_count": 16,
     "metadata": {},
     "output_type": "execute_result"
    },
    {
     "data": {
      "image/png": "[encoded data removed]",
      "text/plain": [
       "<Figure size 432x288 with 1 Axes>"
      ]
     },
     "metadata": {
      "needs_background": "light"
     },
     "output_type": "display_data"
    }
   ],
   "source": [
    "sns.regplot(x=\"sclmeet\", y=\"netusoft\", data=df_spss, scatter = False)\n",
    "plt.xlim(1,7)\n",
    "plt.ylim(1,5)\n",
    "plt.xlabel(\"meet with friends\")\n",
    "plt.ylabel(\"internet use\")\n",
    "plt.title(\"The relationship between internet use and how often you meet with friends\")"
   ]
  }
 ],
 "metadata": {
  "interpreter": {
   "hash": "916dbcbb3f70747c44a77c7bcd40155683ae19c65e1c03b4aa3499c5328201f1"
  },
  "kernelspec": {
   "display_name": "Python 3 (ipykernel)",
   "language": "python",
   "name": "python3"
  },
  "language_info": {
   "codemirror_mode": {
    "name": "ipython",
    "version": 3
   },
   "file_extension": ".py",
   "mimetype": "text/x-python",
   "name": "python",
   "nbconvert_exporter": "python",
   "pygments_lexer": "ipython3",
   "version": "3.9.12"
  }
 },
 "nbformat": 4,
 "nbformat_minor": 5
}
